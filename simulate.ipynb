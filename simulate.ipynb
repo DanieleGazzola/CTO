{
      "cells": [
            {
                  "cell_type": "markdown",
                  "metadata": {},
                  "source": [
                        "### Imports"
                  ]
            },
            {
                  "cell_type": "code",
                  "execution_count": 1,
                  "metadata": {},
                  "outputs": [],
                  "source": [
                        "from main import QuantumIR\n",
                        "from qiskit_aer import AerSimulator\n",
                        "from qiskit import QuantumCircuit\n",
                        "import numpy as np"
                  ]
            },
            {
                  "cell_type": "markdown",
                  "metadata": {},
                  "source": [
                        "### Generate the IR"
                  ]
            },
            {
                  "cell_type": "code",
                  "execution_count": 2,
                  "metadata": {},
                  "outputs": [
                        {
                              "name": "stdout",
                              "output_type": "stream",
                              "text": [
                                    "\n",
                                    "IR:\n",
                                    "\n",
                                    "builtin.module {\n",
                                    "  \"quantum.func\"() ({\n",
                                    "  ^0(%q0_0 : i1, %q1_0 : i1, %q2_0 : i1):\n",
                                    "    %q3_0 = \"quantum.init\"() {\"type\" = i1, \"value\" = false} : () -> i1\n",
                                    "    %q3_1 = \"quantum.ccnot\"(%q0_0, %q1_0, %q3_0) : (i1, i1, i1) -> i1\n",
                                    "    %q4_0 = \"quantum.init\"() {\"type\" = i1, \"value\" = false} : () -> i1\n",
                                    "    %q5_0 = \"quantum.init\"() {\"type\" = i1, \"value\" = false} : () -> i1\n",
                                    "    %q5_1 = \"quantum.ccnot\"(%q0_0, %q1_0, %q5_0) : (i1, i1, i1) -> i1\n",
                                    "    %q4_1 = \"quantum.ccnot\"(%q5_1, %q2_0, %q4_0) : (i1, i1, i1) -> i1\n",
                                    "    %q3_2 = \"quantum.measure\"(%q3_1) : (i1) -> i1\n",
                                    "    %q4_2 = \"quantum.measure\"(%q4_1) : (i1) -> i1\n",
                                    "  }) {\"func_name\" = \"CseTransformation\"} : () -> ()\n",
                                    "}\n",
                                    "\n",
                                    "Transformations:\n",
                                    "\n",
                                    "\n",
                                    "No unused operations to remove\n",
                                    "\n",
                                    "\n",
                                    "\n",
                                    "Common subexpression elimination\n",
                                    "builtin.module {\n",
                                    "  \"quantum.func\"() ({\n",
                                    "  ^0(%q0_0 : i1, %q1_0 : i1, %q2_0 : i1):\n",
                                    "    %q3_0 = \"quantum.init\"() {\"type\" = i1, \"value\" = false} : () -> i1\n",
                                    "    %q3_1 = \"quantum.ccnot\"(%q0_0, %q1_0, %q3_0) : (i1, i1, i1) -> i1\n",
                                    "    %q4_0 = \"quantum.init\"() {\"type\" = i1, \"value\" = false} : () -> i1\n",
                                    "    %q5_0 = \"quantum.init\"() {\"type\" = i1, \"value\" = false} : () -> i1\n",
                                    "    %q4_1 = \"quantum.ccnot\"(%q3_1, %q2_0, %q4_0) : (i1, i1, i1) -> i1\n",
                                    "    %q3_2 = \"quantum.measure\"(%q3_1) : (i1) -> i1\n",
                                    "    %q4_2 = \"quantum.measure\"(%q4_1) : (i1) -> i1\n",
                                    "  }) {\"func_name\" = \"CseTransformation\"} : () -> ()\n",
                                    "}\n",
                                    "\n",
                                    "No Hermitian eliminations to be performed\n",
                                    "\n",
                                    "\n",
                                    "\n",
                                    "No inplacing to be performed\n",
                                    "\n",
                                    "\n",
                                    "\n",
                                    "Removed unused operations\n",
                                    "builtin.module {\n",
                                    "  \"quantum.func\"() ({\n",
                                    "  ^0(%q0_0 : i1, %q1_0 : i1, %q2_0 : i1):\n",
                                    "    %q3_0 = \"quantum.init\"() {\"type\" = i1, \"value\" = false} : () -> i1\n",
                                    "    %q3_1 = \"quantum.ccnot\"(%q0_0, %q1_0, %q3_0) : (i1, i1, i1) -> i1\n",
                                    "    %q4_0 = \"quantum.init\"() {\"type\" = i1, \"value\" = false} : () -> i1\n",
                                    "    %q4_1 = \"quantum.ccnot\"(%q3_1, %q2_0, %q4_0) : (i1, i1, i1) -> i1\n",
                                    "    %q3_2 = \"quantum.measure\"(%q3_1) : (i1) -> i1\n",
                                    "    %q4_2 = \"quantum.measure\"(%q4_1) : (i1) -> i1\n",
                                    "  }) {\"func_name\" = \"CseTransformation\"} : () -> ()\n",
                                    "}\n",
                                    "\n",
                                    "No common subexpressions to eliminate\n",
                                    "\n",
                                    "\n",
                                    "\n",
                                    "No Hermitian eliminations to be performed\n",
                                    "\n",
                                    "\n",
                                    "\n",
                                    "No inplacing to be performed\n",
                                    "\n",
                                    "\n",
                                    "\n",
                                    "No unused operations to remove\n",
                                    "\n",
                                    "\n",
                                    "\n",
                                    "No common subexpressions to eliminate\n",
                                    "\n",
                                    "\n",
                                    "\n",
                                    "No Hermitian eliminations to be performed\n",
                                    "\n",
                                    "\n",
                                    "\n",
                                    "No inplacing to be performed\n",
                                    "\n",
                                    "\n",
                                    "\n",
                                    "No more transformations possible\n",
                                    "\n",
                                    "\n",
                                    "Final IR:\n",
                                    "\n",
                                    "builtin.module {\n",
                                    "  \"quantum.func\"() ({\n",
                                    "  ^0(%q0_0 : i1, %q1_0 : i1, %q2_0 : i1):\n",
                                    "    %q3_0 = \"quantum.init\"() {\"type\" = i1, \"value\" = false} : () -> i1\n",
                                    "    %q3_1 = \"quantum.ccnot\"(%q0_0, %q1_0, %q3_0) : (i1, i1, i1) -> i1\n",
                                    "    %q4_0 = \"quantum.init\"() {\"type\" = i1, \"value\" = false} : () -> i1\n",
                                    "    %q4_1 = \"quantum.ccnot\"(%q3_1, %q2_0, %q4_0) : (i1, i1, i1) -> i1\n",
                                    "    %q3_2 = \"quantum.measure\"(%q3_1) : (i1) -> i1\n",
                                    "    %q4_2 = \"quantum.measure\"(%q4_1) : (i1) -> i1\n",
                                    "  }) {\"func_name\" = \"CseTransformation\"} : () -> ()\n",
                                    "}\n",
                                    "\n",
                                    "\n"
                              ]
                        }
                  ],
                  "source": [
                        "# Run\n",
                        "quantum_ir = QuantumIR()\n",
                        "quantum_ir.run_dataclass()\n",
                        "quantum_ir.run_generate_ir()\n",
                        "quantum_ir.run_transformations()"
                  ]
            },
            {
                  "cell_type": "markdown",
                  "metadata": {},
                  "source": [
                        "### Transform CCNOT gates"
                  ]
            },
            {
                  "cell_type": "code",
                  "execution_count": 3,
                  "metadata": {},
                  "outputs": [
                        {
                              "name": "stdout",
                              "output_type": "stream",
                              "text": [
                                    "\n",
                                    "\n",
                                    "CCNOT decomposition:\n",
                                    "\n",
                                    "builtin.module {\n",
                                    "  \"quantum.func\"() ({\n",
                                    "  ^0(%q0_0 : i1, %q1_0 : i1, %q2_0 : i1):\n",
                                    "    %q3_0 = \"quantum.init\"() {\"type\" = i1, \"value\" = false} : () -> i1\n",
                                    "    %q3_1 = \"quantum.h\"(%q3_0) : (i1) -> i1\n",
                                    "    %q3_2 = \"quantum.cnot\"(%q1_0, %q3_1) : (i1, i1) -> i1\n",
                                    "    %q3_3 = \"quantum.tdagger\"(%q3_2) : (i1) -> i1\n",
                                    "    %q3_4 = \"quantum.cnot\"(%q0_0, %q3_3) : (i1, i1) -> i1\n",
                                    "    %q3_5 = \"quantum.t\"(%q3_4) : (i1) -> i1\n",
                                    "    %q3_6 = \"quantum.cnot\"(%q1_0, %q3_5) : (i1, i1) -> i1\n",
                                    "    %q3_7 = \"quantum.tdagger\"(%q3_6) : (i1) -> i1\n",
                                    "    %q3_8 = \"quantum.cnot\"(%q0_0, %q3_7) : (i1, i1) -> i1\n",
                                    "    %q1_1 = \"quantum.cnot\"(%q0_0, %q1_0) : (i1, i1) -> i1\n",
                                    "    %q1_2 = \"quantum.tdagger\"(%q1_1) : (i1) -> i1\n",
                                    "    %q1_3 = \"quantum.cnot\"(%q0_0, %q1_2) : (i1, i1) -> i1\n",
                                    "    %q0_1 = \"quantum.t\"(%q0_0) : (i1) -> i1\n",
                                    "    %q1_4 = \"quantum.t\"(%q1_3) : (i1) -> i1\n",
                                    "    %q3_9 = \"quantum.t\"(%q3_8) : (i1) -> i1\n",
                                    "    %q3_10 = \"quantum.h\"(%q3_9) : (i1) -> i1\n",
                                    "    %q4_0 = \"quantum.init\"() {\"type\" = i1, \"value\" = false} : () -> i1\n",
                                    "    %q4_1 = \"quantum.h\"(%q4_0) : (i1) -> i1\n",
                                    "    %q4_2 = \"quantum.cnot\"(%q2_0, %q4_1) : (i1, i1) -> i1\n",
                                    "    %q4_3 = \"quantum.tdagger\"(%q4_2) : (i1) -> i1\n",
                                    "    %q4_4 = \"quantum.cnot\"(%q3_10, %q4_3) : (i1, i1) -> i1\n",
                                    "    %q4_5 = \"quantum.t\"(%q4_4) : (i1) -> i1\n",
                                    "    %q4_6 = \"quantum.cnot\"(%q2_0, %q4_5) : (i1, i1) -> i1\n",
                                    "    %q4_7 = \"quantum.tdagger\"(%q4_6) : (i1) -> i1\n",
                                    "    %q4_8 = \"quantum.cnot\"(%q3_10, %q4_7) : (i1, i1) -> i1\n",
                                    "    %q2_1 = \"quantum.cnot\"(%q3_10, %q2_0) : (i1, i1) -> i1\n",
                                    "    %q2_2 = \"quantum.tdagger\"(%q2_1) : (i1) -> i1\n",
                                    "    %q2_3 = \"quantum.cnot\"(%q3_10, %q2_2) : (i1, i1) -> i1\n",
                                    "    %q3_11 = \"quantum.t\"(%q3_10) : (i1) -> i1\n",
                                    "    %q2_4 = \"quantum.t\"(%q2_3) : (i1) -> i1\n",
                                    "    %q4_9 = \"quantum.t\"(%q4_8) : (i1) -> i1\n",
                                    "    %q4_10 = \"quantum.h\"(%q4_9) : (i1) -> i1\n",
                                    "    %q3_12 = \"quantum.measure\"(%q3_11) : (i1) -> i1\n",
                                    "    %q4_11 = \"quantum.measure\"(%q4_10) : (i1) -> i1\n",
                                    "  }) {\"func_name\" = \"CseTransformation\"} : () -> ()\n",
                                    "}\n",
                                    "\n",
                                    "\n"
                              ]
                        }
                  ],
                  "source": [
                        "quantum_ir.metrics_transformation()\n",
                        "#quantum_ir.run_transformations()"
                  ]
            },
            {
                  "cell_type": "markdown",
                  "metadata": {},
                  "source": [
                        "### Find input and output number"
                  ]
            },
            {
                  "cell_type": "code",
                  "execution_count": 4,
                  "metadata": {},
                  "outputs": [
                        {
                              "name": "stdout",
                              "output_type": "stream",
                              "text": [
                                    "Number of inputs:  3 \n",
                                    "Number of support qubits:  2 \n",
                                    "Total qubit used:  5 \n",
                                    "Number of outputs:  2\n"
                              ]
                        }
                  ],
                  "source": [
                        "module = quantum_ir.module\n",
                        "funcOp = module.body.block._first_op\n",
                        "\n",
                        "# Numbers and type of the input parameters\n",
                        "input_args = funcOp.body.block._args\n",
                        "input_number = input_args.__len__()\n",
                        "input_types = [arg.type for arg in input_args]\n",
                        "\n",
                        "# First and last op\n",
                        "first_op = funcOp.body.block._first_op\n",
                        "last_op = funcOp.body.block._last_op\n",
                        "output_number = 0\n",
                        "init_number = 0\n",
                        "\n",
                        "current = first_op\n",
                        "while(current is not None):\n",
                        "    if current.name == \"quantum.init\":\n",
                        "        init_number += 1\n",
                        "    if current.name == \"quantum.measure\":\n",
                        "        output_number += 1\n",
                        "    current = current.next_op\n",
                        "\n",
                        "qubit_number = input_number + init_number\n",
                        "\n",
                        "print(\"Number of inputs: \", input_number, \"\\nNumber of support qubits: \", init_number, \"\\nTotal qubit used: \", qubit_number, \"\\nNumber of outputs: \", output_number)"
                  ]
            },
            {
                  "cell_type": "markdown",
                  "metadata": {},
                  "source": [
                        "### Initialize circuit"
                  ]
            },
            {
                  "cell_type": "code",
                  "execution_count": 5,
                  "metadata": {},
                  "outputs": [
                        {
                              "data": {
                                    "image/png": "[encoded data removed]",
                                    "text/plain": [
                                          "<Figure size 2210.55x1120.39 with 1 Axes>"
                                    ]
                              },
                              "execution_count": 5,
                              "metadata": {},
                              "output_type": "execute_result"
                        }
                  ],
                  "source": [
                        "\n",
                        "def create_circuit(first_op, input_number, output_number, state):\n",
                        "\n",
                        "    circuit = QuantumCircuit(input_number, output_number)\n",
                        "    current = first_op\n",
                        "    cbit_index = 0\n",
                        "\n",
                        "    qubit_list = [i for i in range(input_number)]\n",
                        "\n",
                        "    circuit.initialize(state, qubit_list)\n",
                        "\n",
                        "    while(current is not None):\n",
                        "        # find the indexes of the qubit\n",
                        "        operands_names = [op._name for op in current.operands]\n",
                        "        indexes = [int(name.split(\"_\")[0][1]) for name in operands_names]\n",
                        "        if current.name == \"quantum.not\":\n",
                        "            circuit.x(indexes[0])\n",
                        "        if current.name  == \"quantum.cnot\":\n",
                        "            circuit.cx(indexes[0], indexes[1])\n",
                        "        if current.name == \"quantum.ccnot\":\n",
                        "            circuit.ccx(indexes[0], indexes[1], indexes[2])\n",
                        "        if current.name == \"quantum.h\":\n",
                        "            circuit.h(indexes[0])\n",
                        "        if current.name == \"quantum.t\":\n",
                        "            circuit.t(indexes[0])\n",
                        "        if current.name == \"quantum.tdagger\":\n",
                        "            circuit.tdg(indexes[0])\n",
                        "        if current.name == \"quantum.measure\":\n",
                        "            circuit.measure(indexes[0], cbit_index)\n",
                        "            cbit_index += 1\n",
                        "        \n",
                        "        current = current.next_op\n",
                        "    \n",
                        "    return circuit\n",
                        "\n",
                        "# initializing it to an example state (e.g. all qubit at 0)\n",
                        "example_state = np.array([1] + [0] * (2**qubit_number - 1))\n",
                        "create_circuit(first_op, qubit_number, output_number, example_state).draw(output='mpl')\n",
                        "\n"
                  ]
            },
            {
                  "cell_type": "markdown",
                  "metadata": {},
                  "source": [
                        "### Truth tables"
                  ]
            },
            {
                  "cell_type": "code",
                  "execution_count": 6,
                  "metadata": {},
                  "outputs": [
                        {
                              "name": "stdout",
                              "output_type": "stream",
                              "text": [
                                    "['00000', '00001', '00010', '00011', '00100', '00101', '00110', '00111', '01000', '01001', '01010', '01011', '01100', '01101', '01110', '01111', '10000', '10001', '10010', '10011', '10100', '10101', '10110', '10111', '11000', '11001', '11010', '11011', '11100', '11101', '11110', '11111']\n",
                                    "[[1. 0. 0. ... 0. 0. 0.]\n",
                                    " [0. 1. 0. ... 0. 0. 0.]\n",
                                    " [0. 0. 1. ... 0. 0. 0.]\n",
                                    " ...\n",
                                    " [0. 0. 0. ... 1. 0. 0.]\n",
                                    " [0. 0. 0. ... 0. 1. 0.]\n",
                                    " [0. 0. 0. ... 0. 0. 1.]]\n"
                              ]
                        }
                  ],
                  "source": [
                        "from numpy import eye\n",
                        "\n",
                        "istates = eye(2**qubit_number)\n",
                        "\n",
                        "def bit_strings_iterative(N):\n",
                        "    bit_list = ['']\n",
                        "    for _ in range(N):\n",
                        "        bit_list = ['0' + bit_string for bit_string in bit_list] + \\\n",
                        "                   ['1' + bit_string for bit_string in bit_list]\n",
                        "    return bit_list\n",
                        "\n",
                        "# tutte le stringhe di bit di qubit_number bit\n",
                        "istr = bit_strings_iterative(qubit_number)\n",
                        "\n",
                        "print(istr)\n",
                        "print(istates)"
                  ]
            },
            {
                  "cell_type": "code",
                  "execution_count": 7,
                  "metadata": {},
                  "outputs": [
                        {
                              "name": "stdout",
                              "output_type": "stream",
                              "text": [
                                    "{'000': '00', '001': '00', '010': '00', '011': '01', '100': '00', '101': '00', '110': '00', '111': '11'}\n"
                              ]
                        }
                  ],
                  "source": [
                        "from qiskit.providers import JobStatus\n",
                        "\n",
                        "counts = {}\n",
                        "quantum_truth_table = {}\n",
                        "backend = AerSimulator()\n",
                        "qubit_list = [i for i in range(qubit_number)]\n",
                        "\n",
                        "for i in range(2**qubit_number):\n",
                        "    circuit = create_circuit(first_op, qubit_number, output_number, istates[i])\n",
                        "\n",
                        "    job = backend.run(circuit, shots=2000)\n",
                        "    result = job.result()\n",
                        "\n",
                        "    # Consider only the entries where the support output qubits are set to zero.\n",
                        "    if istr[i][:init_number] == '0' * init_number:\n",
                        "        counts[istr[i][init_number:]] = result.get_counts()\n",
                        "\n",
                        "    for outer_key, inner_dict in counts.items():\n",
                        "        for inner_key, value in inner_dict.items():\n",
                        "            quantum_truth_table[outer_key] = inner_key\n",
                        "\n",
                        "print(quantum_truth_table)\n"
                  ]
            },
            {
                  "cell_type": "markdown",
                  "metadata": {},
                  "source": [
                        "Notice that, both for input and output qubits, the q[0] is the rightmost one (little endian)."
                  ]
            },
            {
                  "cell_type": "code",
                  "execution_count": 8,
                  "metadata": {},
                  "outputs": [
                        {
                              "name": "stdout",
                              "output_type": "stream",
                              "text": [
                                    "{'00000': '00', '00001': '01', '00010': '01', '00011': '00', '00100': '00', '00101': '01', '00110': '01', '00111': '00', '01000': '00', '01001': '01', '01010': '01', '01011': '00', '01100': '00', '01101': '01', '01110': '01', '01111': '00', '10000': '00', '10001': '11', '10010': '01', '10011': '10', '10100': '01', '10101': '10', '10110': '00', '10111': '11', '11000': '01', '11001': '10', '11010': '00', '11011': '11', '11100': '00', '11101': '11', '11110': '01', '11111': '10'}\n"
                              ]
                        }
                  ],
                  "source": [
                        "import csv\n",
                        "\n",
                        "# Initialize the dictionary\n",
                        "classical_truth_table = {}\n",
                        "\n",
                        "# Read the CSV file\n",
                        "with open('truth-tables/xorInPlace.csv', 'r') as file:\n",
                        "    csv_reader = csv.DictReader(file)\n",
                        "    \n",
                        "    # Dynamically find \"out\" columns\n",
                        "    out_columns = [col for col in csv_reader.fieldnames if col.startswith('out')]\n",
                        "    \n",
                        "    for row in csv_reader:\n",
                        "        # Extract the values of \"out\" columns, reverse them, and join as a string\n",
                        "        flipped_value = ''.join(str(row[col]) for col in reversed(out_columns))\n",
                        "        classical_truth_table[row['Inputs']] = flipped_value\n",
                        "\n",
                        "print(classical_truth_table)"
                  ]
            },
            {
                  "cell_type": "code",
                  "execution_count": 9,
                  "metadata": {},
                  "outputs": [
                        {
                              "name": "stdout",
                              "output_type": "stream",
                              "text": [
                                    "Are the truth tables equal? False\n",
                                    "Difference found at key 000: new_counts has 00, data_dict has None\n",
                                    "Difference found at key 001: new_counts has 00, data_dict has None\n",
                                    "Difference found at key 010: new_counts has 00, data_dict has None\n",
                                    "Difference found at key 011: new_counts has 01, data_dict has None\n",
                                    "Difference found at key 100: new_counts has 00, data_dict has None\n",
                                    "Difference found at key 101: new_counts has 00, data_dict has None\n",
                                    "Difference found at key 110: new_counts has 00, data_dict has None\n",
                                    "Difference found at key 111: new_counts has 11, data_dict has None\n"
                              ]
                        }
                  ],
                  "source": [
                        "equal = quantum_truth_table == classical_truth_table\n",
                        "\n",
                        "# Print the result\n",
                        "print(\"Are the truth tables equal?\", equal)\n",
                        "\n",
                        "if not equal:\n",
                        "    for key in quantum_truth_table:\n",
                        "        if quantum_truth_table[key] != classical_truth_table.get(key):\n",
                        "            print(f\"Difference found at key {key}: new_counts has {quantum_truth_table[key]}, data_dict has {classical_truth_table.get(key)}\")"
                  ]
            },
            {
                  "cell_type": "markdown",
                  "metadata": {},
                  "source": [
                        "# Metriche\n",
                        "Circuit depth, circuit width (only number of qubits, qiskit counts also classical bits), gate count, t gate count, t gate depth."
                  ]
            },
            {
                  "cell_type": "code",
                  "execution_count": 10,
                  "metadata": {},
                  "outputs": [
                        {
                              "name": "stdout",
                              "output_type": "stream",
                              "text": [
                                    "Depth of the quantum circuit: 21\n",
                                    "Number of qubits in the quantum circuit: 5\n",
                                    "Number of gates in the quantum circuit: 33\n"
                              ]
                        }
                  ],
                  "source": [
                        "print(\"Depth of the quantum circuit:\", circuit.depth())\n",
                        "print(\"Number of qubits in the quantum circuit:\", circuit.num_qubits)\n",
                        "print(\"Number of gates in the quantum circuit:\", circuit.size())\n",
                        "\n",
                        "#print(\"T gate count for the circuit \",circuit.count_ops()['t'] + circuit.count_ops()['tdg'])\n",
                        "#print(\"T gate depth: \", circuit.depth(lambda gate: gate.operation.name in ['t', 'tdg']))"
                  ]
            },
            {
                  "cell_type": "code",
                  "execution_count": null,
                  "metadata": {},
                  "outputs": [],
                  "source": []
            },
            {
                  "cell_type": "code",
                  "execution_count": 12,
                  "metadata": {},
                  "outputs": [
                        {
                              "name": "stdout",
                              "output_type": "stream",
                              "text": [
                                    "Critical Path:\n",
                                    "Critical Path Length: 23\n",
                                    "T Gate Width: 8\n"
                              ]
                        }
                  ],
                  "source": [
                        "from qiskit.converters import circuit_to_dag\n",
                        "from qiskit.dagcircuit import DAGOpNode\n",
                        "\n",
                        "# Step 1: Convert to a DAGCircuit\n",
                        "dag = circuit_to_dag(circuit)\n",
                        "tgatewidth=0\n",
                        "# Step 2: Retrieve the critical path\n",
                        "# Each element in the critical path is a node in the DAG that contributes to this longest path\n",
                        "critical_path = dag.longest_path()\n",
                        "print(\"Critical Path:\")\n",
                        "for node in critical_path:\n",
                        "    if isinstance(node, DAGOpNode): \n",
                        "        qubit_indices = [circuit.qubits.index(q) for q in node.qargs] \n",
                        "        #print(f\"{node.name} {tuple(qubit_indices)}\")\n",
                        "        if(node.name==\"tdg\" or node.name==\"t\"):\n",
                        "            tgatewidth+=1\n",
                        "print(\"Critical Path Length:\", len(critical_path))\n",
                        "print(\"T Gate Width:\", tgatewidth)"
                  ]
            }
      ],
      "metadata": {
            "kernelspec": {
                  "display_name": ".venv",
                  "language": "python",
                  "name": "python3"
            },
            "language_info": {
                  "codemirror_mode": {
                        "name": "ipython",
                        "version": 3
                  },
                  "file_extension": ".py",
                  "mimetype": "text/x-python",
                  "name": "python",
                  "nbconvert_exporter": "python",
                  "pygments_lexer": "ipython3",
                  "version": "3.10.12"
            }
      },
      "nbformat": 4,
      "nbformat_minor": 2
}
