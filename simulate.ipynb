{
 "cells": [
  {
   "cell_type": "markdown",
   "metadata": {},
   "source": [
    "### Imports"
   ]
  },
  {
   "cell_type": "code",
   "execution_count": 17,
   "metadata": {},
   "outputs": [],
   "source": [
    "from main import QuantumIR\n",
    "from qiskit_aer import AerSimulator\n",
    "from qiskit import QuantumCircuit\n",
    "import numpy as np"
   ]
  },
  {
   "cell_type": "markdown",
   "metadata": {},
   "source": [
    "### Generate the IR"
   ]
  },
  {
   "cell_type": "code",
   "execution_count": 127,
   "metadata": {},
   "outputs": [
    {
     "name": "stdout",
     "output_type": "stream",
     "text": [
      "\n",
      "IR:\n",
      "\n",
      "builtin.module {\n",
      "  \"quantum.func\"() ({\n",
      "  ^0(%q0_0 : i1, %q1_0 : i1):\n",
      "    %q2_0 = \"quantum.init\"() {\"type\" = i1, \"value\" = false} : () -> i1\n",
      "    %q2_1 = \"quantum.ccnot\"(%q0_0, %q1_0, %q2_0) : (i1, i1, i1) -> i1\n",
      "    %q2_2 = \"quantum.measure\"(%q2_1) : (i1) -> i1\n",
      "  }) {\"func_name\" = \"And\"} : () -> ()\n",
      "}\n",
      "\n",
      "Transformations:\n",
      "\n",
      "\n",
      "No more transformations possible\n",
      "\n",
      "\n",
      "Final IR:\n",
      "\n",
      "builtin.module {\n",
      "  \"quantum.func\"() ({\n",
      "  ^0(%q0_0 : i1, %q1_0 : i1):\n",
      "    %q2_0 = \"quantum.init\"() {\"type\" = i1, \"value\" = false} : () -> i1\n",
      "    %q2_1 = \"quantum.ccnot\"(%q0_0, %q1_0, %q2_0) : (i1, i1, i1) -> i1\n",
      "    %q2_2 = \"quantum.measure\"(%q2_1) : (i1) -> i1\n",
      "  }) {\"func_name\" = \"And\"} : () -> ()\n",
      "}\n",
      "\n",
      "\n"
     ]
    }
   ],
   "source": [
    "# Run\n",
    "quantum_ir = QuantumIR()\n",
    "quantum_ir.run_dataclass()\n",
    "quantum_ir.run_generate_ir()\n",
    "quantum_ir.run_transformations()"
   ]
  },
  {
   "cell_type": "markdown",
   "metadata": {},
   "source": [
    "### Transform CCNOT gates"
   ]
  },
  {
   "cell_type": "code",
   "execution_count": 135,
   "metadata": {},
   "outputs": [
    {
     "name": "stdout",
     "output_type": "stream",
     "text": [
      "\n",
      "\n",
      "CCNOT decomposition:\n",
      "\n",
      "builtin.module {\n",
      "  \"quantum.func\"() ({\n",
      "  ^0(%q0_0 : i1, %q1_0 : i1):\n",
      "    %q2_0 = \"quantum.init\"() {\"type\" = i1, \"value\" = false} : () -> i1\n",
      "    %q2_1 = \"quantum.h\"(%q2_0) : (i1) -> i1\n",
      "    %q2_2 = \"quantum.cnot\"(%q1_0, %q2_1) : (i1, i1) -> i1\n",
      "    %q2_3 = \"quantum.tdagger\"(%q2_2) : (i1) -> i1\n",
      "    %q2_4 = \"quantum.cnot\"(%q0_0, %q2_3) : (i1, i1) -> i1\n",
      "    %q2_5 = \"quantum.t\"(%q2_4) : (i1) -> i1\n",
      "    %q2_6 = \"quantum.cnot\"(%q1_0, %q2_5) : (i1, i1) -> i1\n",
      "    %q2_7 = \"quantum.tdagger\"(%q2_6) : (i1) -> i1\n",
      "    %q2_8 = \"quantum.cnot\"(%q0_0, %q2_7) : (i1, i1) -> i1\n",
      "    %q1_1 = \"quantum.cnot\"(%q0_0, %q1_0) : (i1, i1) -> i1\n",
      "    %q1_2 = \"quantum.tdagger\"(%q1_1) : (i1) -> i1\n",
      "    %q1_3 = \"quantum.cnot\"(%q0_0, %q1_2) : (i1, i1) -> i1\n",
      "    %q0_1 = \"quantum.t\"(%q0_0) : (i1) -> i1\n",
      "    %q1_4 = \"quantum.t\"(%q1_3) : (i1) -> i1\n",
      "    %q2_9 = \"quantum.t\"(%q2_8) : (i1) -> i1\n",
      "    %q2_10 = \"quantum.h\"(%q2_9) : (i1) -> i1\n",
      "    %q2_11 = \"quantum.measure\"(%q2_10) : (i1) -> i1\n",
      "  }) {\"func_name\" = \"And\"} : () -> ()\n",
      "}\n",
      "\n",
      "\n",
      "\n",
      "\n",
      "Transformations:\n",
      "\n",
      "\n",
      "Removed unused operations\n",
      "builtin.module {\n",
      "  \"quantum.func\"() ({\n",
      "  ^0(%q0_0 : i1, %q1_0 : i1):\n",
      "    %q2_0 = \"quantum.init\"() {\"type\" = i1, \"value\" = false} : () -> i1\n",
      "    %q2_1 = \"quantum.h\"(%q2_0) : (i1) -> i1\n",
      "    %q2_2 = \"quantum.cnot\"(%q1_0, %q2_1) : (i1, i1) -> i1\n",
      "    %q2_3 = \"quantum.tdagger\"(%q2_2) : (i1) -> i1\n",
      "    %q2_4 = \"quantum.cnot\"(%q0_0, %q2_3) : (i1, i1) -> i1\n",
      "    %q2_5 = \"quantum.t\"(%q2_4) : (i1) -> i1\n",
      "    %q2_6 = \"quantum.cnot\"(%q1_0, %q2_5) : (i1, i1) -> i1\n",
      "    %q2_7 = \"quantum.tdagger\"(%q2_6) : (i1) -> i1\n",
      "    %q2_8 = \"quantum.cnot\"(%q0_0, %q2_7) : (i1, i1) -> i1\n",
      "    %q2_9 = \"quantum.t\"(%q2_8) : (i1) -> i1\n",
      "    %q2_10 = \"quantum.h\"(%q2_9) : (i1) -> i1\n",
      "    %q2_11 = \"quantum.measure\"(%q2_10) : (i1) -> i1\n",
      "  }) {\"func_name\" = \"And\"} : () -> ()\n",
      "}\n",
      "\n",
      "No more transformations possible\n",
      "\n",
      "\n",
      "Final IR:\n",
      "\n",
      "builtin.module {\n",
      "  \"quantum.func\"() ({\n",
      "  ^0(%q0_0 : i1, %q1_0 : i1):\n",
      "    %q2_0 = \"quantum.init\"() {\"type\" = i1, \"value\" = false} : () -> i1\n",
      "    %q2_1 = \"quantum.h\"(%q2_0) : (i1) -> i1\n",
      "    %q2_2 = \"quantum.cnot\"(%q1_0, %q2_1) : (i1, i1) -> i1\n",
      "    %q2_3 = \"quantum.tdagger\"(%q2_2) : (i1) -> i1\n",
      "    %q2_4 = \"quantum.cnot\"(%q0_0, %q2_3) : (i1, i1) -> i1\n",
      "    %q2_5 = \"quantum.t\"(%q2_4) : (i1) -> i1\n",
      "    %q2_6 = \"quantum.cnot\"(%q1_0, %q2_5) : (i1, i1) -> i1\n",
      "    %q2_7 = \"quantum.tdagger\"(%q2_6) : (i1) -> i1\n",
      "    %q2_8 = \"quantum.cnot\"(%q0_0, %q2_7) : (i1, i1) -> i1\n",
      "    %q2_9 = \"quantum.t\"(%q2_8) : (i1) -> i1\n",
      "    %q2_10 = \"quantum.h\"(%q2_9) : (i1) -> i1\n",
      "    %q2_11 = \"quantum.measure\"(%q2_10) : (i1) -> i1\n",
      "  }) {\"func_name\" = \"And\"} : () -> ()\n",
      "}\n",
      "\n",
      "\n"
     ]
    }
   ],
   "source": [
    "quantum_ir.metrics_transformation()\n",
    "quantum_ir.run_transformations()"
   ]
  },
  {
   "cell_type": "markdown",
   "metadata": {},
   "source": [
    "### Find input and output number"
   ]
  },
  {
   "cell_type": "code",
   "execution_count": 136,
   "metadata": {},
   "outputs": [
    {
     "name": "stdout",
     "output_type": "stream",
     "text": [
      "Number of inputs:  3 Number of outputs:  1\n"
     ]
    }
   ],
   "source": [
    "module = quantum_ir.module\n",
    "funcOp = module.body.block._first_op\n",
    "\n",
    "# Numbers and type of the input parameters\n",
    "input_args = funcOp.body.block._args\n",
    "input_number = input_args.__len__()\n",
    "input_types = [arg.type for arg in input_args]\n",
    "\n",
    "# First and last op\n",
    "first_op = funcOp.body.block._first_op\n",
    "last_op = funcOp.body.block._last_op\n",
    "output_number = 0\n",
    "init_number = 0\n",
    "\n",
    "current = first_op\n",
    "while(current is not None):\n",
    "    if current.name == \"quantum.init\":\n",
    "        input_number += 1\n",
    "        init_number += 1\n",
    "    if current.name == \"quantum.measure\":\n",
    "        output_number += 1\n",
    "    current = current.next_op\n",
    "\n",
    "print(\"Number of inputs: \", input_number, \"Number of outputs: \", output_number)"
   ]
  },
  {
   "cell_type": "markdown",
   "metadata": {},
   "source": [
    "### Initialize circuit"
   ]
  },
  {
   "cell_type": "code",
   "execution_count": 137,
   "metadata": {},
   "outputs": [
    {
     "data": {
      "image/png": "[encoded data removed]",
      "text/plain": [
       "<Figure size 1207.22x367.889 with 1 Axes>"
      ]
     },
     "execution_count": 137,
     "metadata": {},
     "output_type": "execute_result"
    }
   ],
   "source": [
    "\n",
    "def create_circuit(first_op, input_number, output_number, state):\n",
    "\n",
    "    circuit = QuantumCircuit(input_number, output_number)\n",
    "    current = first_op\n",
    "    cbit_index = 0\n",
    "\n",
    "    qubit_list = [i for i in range(input_number)]\n",
    "\n",
    "    circuit.initialize(state, qubit_list)\n",
    "\n",
    "    while(current is not None):\n",
    "        # find the indexes of the qubit\n",
    "        operands_names = [op._name for op in current.operands]\n",
    "        indexes = [int(name.split(\"_\")[0][1]) for name in operands_names]\n",
    "        if current.name == \"quantum.not\":\n",
    "            circuit.x(indexes[0])\n",
    "        if current.name  == \"quantum.cnot\":\n",
    "            circuit.cx(indexes[0], indexes[1])\n",
    "        if current.name == \"quantum.ccnot\":\n",
    "            circuit.ccx(indexes[0], indexes[1], indexes[2])\n",
    "        if current.name == \"quantum.h\":\n",
    "            circuit.h(indexes[0])\n",
    "        if current.name == \"quantum.t\":\n",
    "            circuit.t(indexes[0])\n",
    "        if current.name == \"quantum.tdagger\":\n",
    "            circuit.tdg(indexes[0])\n",
    "        if current.name == \"quantum.measure\":\n",
    "            circuit.measure(indexes[0], cbit_index)\n",
    "            cbit_index += 1\n",
    "        \n",
    "        current = current.next_op\n",
    "    \n",
    "    return circuit\n",
    "\n",
    "# initializing it to an example state (e.g. all qubit at 0)\n",
    "example_state = np.array([1] + [0] * (2**input_number - 1))\n",
    "create_circuit(first_op, input_number, output_number,example_state).draw(output='mpl')\n",
    "\n"
   ]
  },
  {
   "cell_type": "markdown",
   "metadata": {},
   "source": [
    "### Truth tables"
   ]
  },
  {
   "cell_type": "code",
   "execution_count": 138,
   "metadata": {},
   "outputs": [
    {
     "name": "stdout",
     "output_type": "stream",
     "text": [
      "['000', '001', '010', '011', '100', '101', '110', '111']\n",
      "[[1. 0. 0. 0. 0. 0. 0. 0.]\n",
      " [0. 1. 0. 0. 0. 0. 0. 0.]\n",
      " [0. 0. 1. 0. 0. 0. 0. 0.]\n",
      " [0. 0. 0. 1. 0. 0. 0. 0.]\n",
      " [0. 0. 0. 0. 1. 0. 0. 0.]\n",
      " [0. 0. 0. 0. 0. 1. 0. 0.]\n",
      " [0. 0. 0. 0. 0. 0. 1. 0.]\n",
      " [0. 0. 0. 0. 0. 0. 0. 1.]]\n"
     ]
    }
   ],
   "source": [
    "from numpy import eye\n",
    "\n",
    "istates = eye(2**input_number)\n",
    "\n",
    "def bit_strings_iterative(N):\n",
    "    bit_list = ['']\n",
    "    for _ in range(N):\n",
    "        bit_list = ['0' + bit_string for bit_string in bit_list] + \\\n",
    "                   ['1' + bit_string for bit_string in bit_list]\n",
    "    return bit_list\n",
    "\n",
    "# tutte le stringhe di bit di input_number bit\n",
    "istr = bit_strings_iterative(input_number)\n",
    "\n",
    "print(istr)\n",
    "print(istates)"
   ]
  },
  {
   "cell_type": "code",
   "execution_count": 139,
   "metadata": {},
   "outputs": [
    {
     "name": "stdout",
     "output_type": "stream",
     "text": [
      "{'00': '0', '01': '0', '10': '0', '11': '1'}\n"
     ]
    }
   ],
   "source": [
    "from qiskit.providers import JobStatus\n",
    "\n",
    "counts = {}\n",
    "quantum_truth_table = {}\n",
    "backend = AerSimulator()\n",
    "qubit_list = [i for i in range(input_number)]\n",
    "\n",
    "for i in range(istates.shape[1]):\n",
    "    circuit = create_circuit(first_op, input_number, output_number, istates[i])\n",
    "\n",
    "    job = backend.run(circuit, shots=2000)\n",
    "    result = job.result()\n",
    "\n",
    "    # Consider only the entries where the support output qubits are set to zero.\n",
    "    if istr[i][:init_number] == '0' * init_number:\n",
    "        counts[istr[i][init_number:]] = result.get_counts()\n",
    "\n",
    "for outer_key, inner_dict in counts.items():\n",
    "    for inner_key, value in inner_dict.items():\n",
    "        quantum_truth_table[outer_key] = inner_key\n",
    "\n",
    "print(quantum_truth_table)\n"
   ]
  },
  {
   "cell_type": "markdown",
   "metadata": {},
   "source": [
    "Notice that, both for input and output qubits, the q[0] is the rightmost one (little endian)."
   ]
  },
  {
   "cell_type": "code",
   "execution_count": 133,
   "metadata": {},
   "outputs": [
    {
     "name": "stdout",
     "output_type": "stream",
     "text": [
      "{'00': '0', '01': '0', '10': '0', '11': '1'}\n"
     ]
    }
   ],
   "source": [
    "import csv\n",
    "\n",
    "# Initialize the dictionary\n",
    "classical_truth_table = {}\n",
    "\n",
    "# Read the CSV file\n",
    "with open('truth-tables/and.csv', 'r') as file:\n",
    "    csv_reader = csv.DictReader(file)\n",
    "    \n",
    "    # Dynamically find \"out\" columns\n",
    "    out_columns = [col for col in csv_reader.fieldnames if col.startswith('out')]\n",
    "    \n",
    "    for row in csv_reader:\n",
    "        # Extract the values of \"out\" columns, reverse them, and join as a string\n",
    "        flipped_value = ''.join(str(row[col]) for col in reversed(out_columns))\n",
    "        classical_truth_table[row['Inputs']] = flipped_value\n",
    "\n",
    "print(classical_truth_table)"
   ]
  },
  {
   "cell_type": "code",
   "execution_count": 140,
   "metadata": {},
   "outputs": [
    {
     "name": "stdout",
     "output_type": "stream",
     "text": [
      "Are the truth tables equal? True\n"
     ]
    }
   ],
   "source": [
    "equal = quantum_truth_table == classical_truth_table\n",
    "\n",
    "# Print the result\n",
    "print(\"Are the truth tables equal?\", equal)\n",
    "\n",
    "if not equal:\n",
    "    for key in quantum_truth_table:\n",
    "        if quantum_truth_table[key] != classical_truth_table.get(key):\n",
    "            print(f\"Difference found at key {key}: new_counts has {quantum_truth_table[key]}, data_dict has {classical_truth_table.get(key)}\")"
   ]
  },
  {
   "cell_type": "markdown",
   "metadata": {},
   "source": [
    "# Metriche\n",
    "numero di qubit, numero di gate, depth (percorso critico)"
   ]
  },
  {
   "cell_type": "code",
   "execution_count": 15,
   "metadata": {},
   "outputs": [
    {
     "name": "stdout",
     "output_type": "stream",
     "text": [
      "Number of qubits in the quantum circuit: 4\n",
      "Number of gates in the quantum circuit: 2\n",
      "Depth of the quantum circuit: 2\n",
      "Width of the quantum circuit: 5\n",
      "Gate counts for the quantum circuit: OrderedDict([('initialize', 1), ('measure', 1)])\n"
     ]
    }
   ],
   "source": [
    "print(\"Number of qubits in the quantum circuit:\", circuit.num_qubits)\n",
    "print(\"Number of gates in the quantum circuit:\", circuit.size())\n",
    "print(\"Depth of the quantum circuit:\", circuit.depth())\n",
    "print(\"Width of the quantum circuit:\", circuit.width())\n",
    "\n",
    "print(\"Gate counts for the quantum circuit:\", circuit.count_ops())"
   ]
  },
  {
   "cell_type": "code",
   "execution_count": 16,
   "metadata": {},
   "outputs": [
    {
     "name": "stdout",
     "output_type": "stream",
     "text": [
      "Critical Path:\n",
      "initialize (0, 1, 2, 3)\n",
      "measure (3,)\n"
     ]
    }
   ],
   "source": [
    "from qiskit.converters import circuit_to_dag\n",
    "from qiskit.dagcircuit.dagcircuit import DAGOpNode\n",
    "\n",
    "# Step 1: Convert to a DAGCircuit\n",
    "dag = circuit_to_dag(circuit)\n",
    "\n",
    "# Step 2: Retrieve the critical path\n",
    "# Each element in the critical path is a node in the DAG that contributes to this longest path\n",
    "critical_path = dag.longest_path()\n",
    "print(\"Critical Path:\")\n",
    "for node in critical_path:\n",
    "    if isinstance(node, DAGOpNode): \n",
    "        qubit_indices = [circuit.qubits.index(q) for q in node.qargs] \n",
    "        print(f\"{node.name} {tuple(qubit_indices)}\")"
   ]
  }
 ],
 "metadata": {
  "kernelspec": {
   "display_name": "Python 3",
   "language": "python",
   "name": "python3"
  },
  "language_info": {
   "codemirror_mode": {
    "name": "ipython",
    "version": 3
   },
   "file_extension": ".py",
   "mimetype": "text/x-python",
   "name": "python",
   "nbconvert_exporter": "python",
   "pygments_lexer": "ipython3",
   "version": "3.10.12"
  }
 },
 "nbformat": 4,
 "nbformat_minor": 2
}
