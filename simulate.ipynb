{
 "cells": [
  {
   "cell_type": "markdown",
   "metadata": {},
   "source": [
    "### Imports"
   ]
  },
  {
   "cell_type": "code",
   "execution_count": 58,
   "metadata": {},
   "outputs": [],
   "source": [
    "from main import QuantumIR\n",
    "from qiskit_aer import AerSimulator\n",
    "from qiskit import QuantumCircuit\n",
    "import numpy as np"
   ]
  },
  {
   "cell_type": "markdown",
   "metadata": {},
   "source": [
    "### Generate the IR"
   ]
  },
  {
   "cell_type": "code",
   "execution_count": 68,
   "metadata": {},
   "outputs": [
    {
     "name": "stdout",
     "output_type": "stream",
     "text": [
      "\n",
      "IR:\n",
      "\n",
      "builtin.module {\n",
      "  \"quantum.func\"() ({\n",
      "  ^0(%q0_0 : i1, %q1_0 : i1, %q2_0 : i1):\n",
      "    %q0_1 = \"quantum.not\"(%q0_0) : (i1) -> i1\n",
      "    %q3_0 = \"quantum.init\"() {\"type\" = i1, \"value\" = false} : () -> i1\n",
      "    %q3_1 = \"quantum.cnot\"(%q0_1, %q3_0) : (i1, i1) -> i1\n",
      "    %q3_2 = \"quantum.cnot\"(%q1_0, %q3_1) : (i1, i1) -> i1\n",
      "    %q3_3 = \"quantum.cnot\"(%q2_0, %q3_2) : (i1, i1) -> i1\n",
      "    %q3_4 = \"quantum.measure\"(%q3_3) : (i1) -> i1\n",
      "  }) {\"func_name\" = \"xorInPlace\"} : () -> ()\n",
      "}\n",
      "\n",
      "Transformations:\n",
      "\n",
      "\n",
      "Inplacing\n",
      "builtin.module {\n",
      "  \"quantum.func\"() ({\n",
      "  ^0(%q0_0 : i1, %q1_0 : i1, %q2_0 : i1):\n",
      "    %q0_1 = \"quantum.not\"(%q0_0) : (i1) -> i1\n",
      "    %q0_2 = \"quantum.cnot\"(%q1_0, %q0_1) : (i1, i1) -> i1\n",
      "    %q0_3 = \"quantum.cnot\"(%q2_0, %q0_2) : (i1, i1) -> i1\n",
      "    %q3_4 = \"quantum.measure\"(%q0_3) : (i1) -> i1\n",
      "  }) {\"func_name\" = \"xorInPlace\"} : () -> ()\n",
      "}\n",
      "\n",
      "No more transformations possible\n",
      "\n",
      "\n",
      "Final IR:\n",
      "\n",
      "builtin.module {\n",
      "  \"quantum.func\"() ({\n",
      "  ^0(%q0_0 : i1, %q1_0 : i1, %q2_0 : i1):\n",
      "    %q0_1 = \"quantum.not\"(%q0_0) : (i1) -> i1\n",
      "    %q0_2 = \"quantum.cnot\"(%q1_0, %q0_1) : (i1, i1) -> i1\n",
      "    %q0_3 = \"quantum.cnot\"(%q2_0, %q0_2) : (i1, i1) -> i1\n",
      "    %q0_4 = \"quantum.measure\"(%q0_3) : (i1) -> i1\n",
      "  }) {\"func_name\" = \"xorInPlace\"} : () -> ()\n",
      "}\n",
      "\n",
      "\n"
     ]
    }
   ],
   "source": [
    "# Run\n",
    "quantum_ir = QuantumIR();\n",
    "quantum_ir.run_dataclass();\n",
    "quantum_ir.run_generate_ir();\n",
    "quantum_ir.run_transformations();"
   ]
  },
  {
   "cell_type": "markdown",
   "metadata": {},
   "source": [
    "### Find input and output number"
   ]
  },
  {
   "cell_type": "code",
   "execution_count": 69,
   "metadata": {},
   "outputs": [
    {
     "name": "stdout",
     "output_type": "stream",
     "text": [
      "Number of inputs:  3 Number of outputs:  1\n"
     ]
    }
   ],
   "source": [
    "module = quantum_ir.module\n",
    "funcOp = module.body.block._first_op\n",
    "\n",
    "# Numbers and type of the input parameters\n",
    "input_args = funcOp.body.block._args\n",
    "input_number = input_args.__len__()\n",
    "input_types = [arg.type for arg in input_args]\n",
    "\n",
    "# First and last op\n",
    "first_op = funcOp.body.block._first_op\n",
    "last_op = funcOp.body.block._last_op\n",
    "output_number = 0\n",
    "\n",
    "current = first_op\n",
    "while(current is not None):\n",
    "    if current.name == \"quantum.init\":\n",
    "        input_number += 1\n",
    "    if current.name == \"quantum.measure\":\n",
    "        output_number += 1\n",
    "    current = current.next_op\n",
    "\n",
    "print(\"Number of inputs: \", input_number, \"Number of outputs: \",output_number)"
   ]
  },
  {
   "cell_type": "markdown",
   "metadata": {},
   "source": [
    "### Initialize circuit"
   ]
  },
  {
   "cell_type": "code",
   "execution_count": 70,
   "metadata": {},
   "outputs": [
    {
     "data": {
      "image/png": "[encoded data removed]",
      "text/plain": [
       "<Figure size 621.941x367.889 with 1 Axes>"
      ]
     },
     "execution_count": 70,
     "metadata": {},
     "output_type": "execute_result"
    }
   ],
   "source": [
    "\n",
    "def create_circuit(first_op, input_number, output_number,state):\n",
    "\n",
    "    circuit = QuantumCircuit(input_number,output_number)\n",
    "    current = first_op\n",
    "    cbit_index = 0\n",
    "\n",
    "    qubit_list = [i for i in range(input_number)]\n",
    "\n",
    "    circuit.initialize(state,qubit_list)\n",
    "\n",
    "    while(current is not None):\n",
    "        # find the indexes of the qubit\n",
    "        operands_names = [op._name for op in current.operands]\n",
    "        indexes = [int(name.split(\"_\")[0][1]) for name in operands_names]\n",
    "        if current.name  == \"quantum.cnot\":\n",
    "            circuit.cx(indexes[0],indexes[1])\n",
    "        if current.name == \"quantum.ccnot\":\n",
    "            circuit.ccx(indexes[0],indexes[1],indexes[2])\n",
    "        if current.name == \"quantum.not\":\n",
    "            circuit.x(indexes[0])\n",
    "        if current.name == \"quantum.measure\":\n",
    "            circuit.measure(indexes[0],cbit_index)\n",
    "            cbit_index+=1\n",
    "        \n",
    "        current = current.next_op\n",
    "    \n",
    "    return circuit\n",
    "\n",
    "# initializing it to an example state (e.g. all qubit at 0)\n",
    "example_state = np.array([1] + [0] * (2**input_number - 1))\n",
    "create_circuit(first_op, input_number, output_number,example_state).draw(output='mpl')\n",
    "\n"
   ]
  },
  {
   "cell_type": "markdown",
   "metadata": {},
   "source": [
    "### Input initilization"
   ]
  },
  {
   "cell_type": "code",
   "execution_count": 71,
   "metadata": {},
   "outputs": [
    {
     "name": "stdout",
     "output_type": "stream",
     "text": [
      "['000', '001', '010', '011', '100', '101', '110', '111']\n",
      "[[1. 0. 0. 0. 0. 0. 0. 0.]\n",
      " [0. 1. 0. 0. 0. 0. 0. 0.]\n",
      " [0. 0. 1. 0. 0. 0. 0. 0.]\n",
      " [0. 0. 0. 1. 0. 0. 0. 0.]\n",
      " [0. 0. 0. 0. 1. 0. 0. 0.]\n",
      " [0. 0. 0. 0. 0. 1. 0. 0.]\n",
      " [0. 0. 0. 0. 0. 0. 1. 0.]\n",
      " [0. 0. 0. 0. 0. 0. 0. 1.]]\n"
     ]
    }
   ],
   "source": [
    "from numpy import eye\n",
    "\n",
    "istates = eye(2**input_number);\n",
    "\n",
    "def bit_strings_iterative(N):\n",
    "    bit_list = ['']\n",
    "    for _ in range(N):\n",
    "        bit_list = ['0' + bit_string for bit_string in bit_list] + \\\n",
    "                   ['1' + bit_string for bit_string in bit_list]\n",
    "    return bit_list\n",
    "\n",
    "# tutte le stringhe di bit di input_number bit\n",
    "istr = bit_strings_iterative(input_number)\n",
    "\n",
    "print(istr)\n",
    "print(istates)"
   ]
  },
  {
   "cell_type": "code",
   "execution_count": 72,
   "metadata": {},
   "outputs": [
    {
     "data": {
      "text/plain": [
       "{'000': {'1': 2000},\n",
       " '001': {'0': 2000},\n",
       " '010': {'0': 2000},\n",
       " '011': {'1': 2000},\n",
       " '100': {'0': 2000},\n",
       " '101': {'1': 2000},\n",
       " '110': {'1': 2000},\n",
       " '111': {'0': 2000}}"
      ]
     },
     "execution_count": 72,
     "metadata": {},
     "output_type": "execute_result"
    }
   ],
   "source": [
    "from qiskit.providers import JobStatus\n",
    "\n",
    "counts = {}\n",
    "backend = AerSimulator()\n",
    "qubit_list = [i for i in range(input_number)]\n",
    "\n",
    "for i in range(istates.shape[1]):\n",
    "    circuit=create_circuit(first_op, input_number, output_number,istates[i])\n",
    "\n",
    "    job = backend.run(circuit, shots=2000)\n",
    "    result = job.result()\n",
    "    \n",
    "    counts[istr[i]] = result.get_counts()\n",
    "\n",
    "counts"
   ]
  },
  {
   "cell_type": "markdown",
   "metadata": {},
   "source": [
    "# Metriche\n",
    "numero di qubit, numero di gate, depth (percorso critico)"
   ]
  }
 ],
 "metadata": {
  "kernelspec": {
   "display_name": "Python 3",
   "language": "python",
   "name": "python3"
  },
  "language_info": {
   "codemirror_mode": {
    "name": "ipython",
    "version": 3
   },
   "file_extension": ".py",
   "mimetype": "text/x-python",
   "name": "python",
   "nbconvert_exporter": "python",
   "pygments_lexer": "ipython3",
   "version": "3.12.3"
  }
 },
 "nbformat": 4,
 "nbformat_minor": 2
}
